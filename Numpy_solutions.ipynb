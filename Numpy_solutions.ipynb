{

  "nbformat": 4,
  "nbformat_minor": 0,
  "metadata": {
    "colab": {
      "provenance": [],
      "collapsed_sections": []
    },
    "kernelspec": {
      "name": "python3",
      "display_name": "Python 3"
    },
    "language_info": {
      "name": "python"
    }
  },
  "cells": [
    {
      "cell_type": "code",
      "execution_count": 2,
      "metadata": {
        "colab": {
          "base_uri": "https://localhost:8080/"
        },
        "id": "IhJANdd0Ztyw",
        "outputId": "6f64a7c6-29f4-419a-9d5d-1119b3c115ab"
      },
      "outputs": [
        {
          "output_type": "stream",
          "name": "stdout",
          "text": [
            "Hello! Its my 9th home work like exam :)\n"
          ]
        }
      ],
      "source": [
        "print('Hello! Its my 9th home work like exam :)')"
      ]
    },
    {
      "cell_type": "code",
      "source": [
        "#b. Создайте массив из 10 нулей\n",
        "import numpy as np\n",
        "arr = np.zeros(10)\n",
        "print(arr)"
      ],
      "metadata": {
        "colab": {
          "base_uri": "https://localhost:8080/"
        },
        "id": "e5Vy7q_8adOh",
        "outputId": "c52433c1-51c1-49af-8180-8d549f79ed28"
      },
      "execution_count": 8,
      "outputs": [
        {
          "output_type": "stream",
          "name": "stdout",
          "text": [
            "[0. 0. 0. 0. 0. 0. 0. 0. 0. 0.]\n"
          ]
        }
      ]
    },
    {
      "cell_type": "code",
      "source": [
        "#c. Создать массив из 10 единиц\n",
        "arr = np.ones(10) \n",
        "print(arr)  "
      ],
      "metadata": {
        "colab": {
          "base_uri": "https://localhost:8080/"
        },
        "id": "efvqEITka8iF",
        "outputId": "e300e6d5-c566-4c31-81da-7d3fb879a385"
      },
      "execution_count": 32,
      "outputs": [
        {
          "output_type": "stream",
          "name": "stdout",
          "text": [
            "[1. 1. 1. 1. 1. 1. 1. 1. 1. 1.]\n"
          ]
        }
      ]
    },
    {
      "cell_type": "code",
      "source": [
        "#d. Создать массив из 10 пятерок\n",
        "arr = np.arange(0,10)\n",
        "arr[:] = 5\n",
        "print(arr)\n",
        "x = len(arr)\n",
        "print('этот массив состоит из', x, 'пятерок')"
      ],
      "metadata": {
        "colab": {
          "base_uri": "https://localhost:8080/"
        },
        "id": "BU5wnc4NbkoA",
        "outputId": "fd58dd76-8975-4be1-86fc-d2c544229120"
      },
      "execution_count": 74,
      "outputs": [
        {
          "output_type": "stream",
          "name": "stdout",
          "text": [
            "[5 5 5 5 5 5 5 5 5 5]\n",
            "этот массив состоит из 10 пятерок\n"
          ]
        }
      ]
    },
    {
      "cell_type": "code",
      "source": [
        "#e. Создать массив из целых чисел от 10 до 50\n",
        "arr = np.arange (10,51)\n",
        "print(arr)"
      ],
      "metadata": {
        "colab": {
          "base_uri": "https://localhost:8080/"
        },
        "id": "6fqRKmeydooe",
        "outputId": "0732a63a-799a-4c17-d888-e4d3e3fbc566"
      },
      "execution_count": 27,
      "outputs": [
        {
          "output_type": "stream",
          "name": "stdout",
          "text": [
            "[10 11 12 13 14 15 16 17 18 19 20 21 22 23 24 25 26 27 28 29 30 31 32 33\n",
            " 34 35 36 37 38 39 40 41 42 43 44 45 46 47 48 49 50]\n"
          ]
        }
      ]
    },
    {
      "cell_type": "code",
      "source": [
        "#f. Создать массив из четных чисел от 10 до 50\n",
        "arr = np.arange (10,51,2)\n",
        "print(arr)"
      ],
      "metadata": {
        "colab": {
          "base_uri": "https://localhost:8080/"
        },
        "id": "pR380e82e_QW",
        "outputId": "10cb7515-9454-44b6-d9a7-6dd7bb4056c1"
      },
      "execution_count": 29,
      "outputs": [
        {
          "output_type": "stream",
          "name": "stdout",
          "text": [
            "[10 12 14 16 18 20 22 24 26 28 30 32 34 36 38 40 42 44 46 48 50]\n"
          ]
        }
      ]
    },
    {
      "cell_type": "code",
      "source": [
        "#Создать матрицу 3х3 с числами от 0 до 8\n",
        "arr = np.arange(0,9)\n",
        "arr1 = arr.reshape(3,3)\n",
        "print(arr1)"
      ],
      "metadata": {
        "colab": {
          "base_uri": "https://localhost:8080/"
        },
        "id": "ZBwjrZ9ufuTr",
        "outputId": "e5c84412-583f-4b98-e01b-aec7867788e6"
      },
      "execution_count": 36,
      "outputs": [
        {
          "output_type": "stream",
          "name": "stdout",
          "text": [
            "[[0 1 2]\n",
            " [3 4 5]\n",
            " [6 7 8]]\n"
          ]
        }
      ]
    },
    {
      "cell_type": "code",
      "source": [
        "#h. Создать единичную матрицу 3x3\n",
        "arr = np.zeros((3,3))\n",
        "print(arr)"
      ],
      "metadata": {
        "colab": {
          "base_uri": "https://localhost:8080/"
        },
        "id": "tEJmL8i_kZBr",
        "outputId": "493820d6-23f5-4824-bb39-4805df890a13"
      },
      "execution_count": 38,
      "outputs": [
        {
          "output_type": "stream",
          "name": "stdout",
          "text": [
            "[[0. 0. 0.]\n",
            " [0. 0. 0.]\n",
            " [0. 0. 0.]]\n"
          ]
        }
      ]
    },
    {
      "cell_type": "code",
      "source": [
        "#i. Используйте NumPy для генерации случайного числа от 0 до 1\n",
        "arr = np.random.rand()\n",
        "print(arr)"
      ],
      "metadata": {
        "colab": {
          "base_uri": "https://localhost:8080/"
        },
        "id": "rxNSRYC3ktNF",
        "outputId": "3f87a074-4346-4b14-ebca-ccc6483a036a"
      },
      "execution_count": 49,
      "outputs": [
        {
          "output_type": "stream",
          "name": "stdout",
          "text": [
            "0.2623179416372544\n"
          ]
        }
      ]
    },
    {
      "cell_type": "code",
      "source": [
        "#j. Используйте NumPy для генерации массива из 25 случайных чисел, взятых из стандартного нормального распределения\n",
        "arr = np.random.randint(0,100,25)\n",
        "print(arr)\n",
        "x = len(arr)\n",
        "print('получилось', x, 'случайных чисел')"
      ],
      "metadata": {
        "colab": {
          "base_uri": "https://localhost:8080/"
        },
        "id": "fiCdduTGnyAp",
        "outputId": "1ca1231a-d1d9-4f32-d56c-f3ebfca7719d"
      },
      "execution_count": 56,
      "outputs": [
        {
          "output_type": "stream",
          "name": "stdout",
          "text": [
            "[80  0  8 12 69 21 51 78 78  9 38 26 84 93 70 14 85 98 24 99 94 40 74 74\n",
            " 81]\n",
            "получилось 25 случайных чисел\n"
          ]
        }
      ]
    },
    {
      "cell_type": "code",
      "source": [
        "from numpy.core.fromnumeric import reshape\n",
        "#k. Создайте следующую матрицу используя функции библиотеки NumPy\n",
        "arr = np.linspace(0.01,1,100).reshape(10,10)\n",
        "print(arr)"
      ],
      "metadata": {
        "colab": {
          "base_uri": "https://localhost:8080/"
        },
        "id": "7puTK8v4l9Wa",
        "outputId": "967b1a05-f51b-4622-fe77-499dd9ad0b3c"
      },
      "execution_count": 47,
      "outputs": [
        {
          "output_type": "stream",
          "name": "stdout",
          "text": [
            "[[0.01 0.02 0.03 0.04 0.05 0.06 0.07 0.08 0.09 0.1 ]\n",
            " [0.11 0.12 0.13 0.14 0.15 0.16 0.17 0.18 0.19 0.2 ]\n",
            " [0.21 0.22 0.23 0.24 0.25 0.26 0.27 0.28 0.29 0.3 ]\n",
            " [0.31 0.32 0.33 0.34 0.35 0.36 0.37 0.38 0.39 0.4 ]\n",
            " [0.41 0.42 0.43 0.44 0.45 0.46 0.47 0.48 0.49 0.5 ]\n",
            " [0.51 0.52 0.53 0.54 0.55 0.56 0.57 0.58 0.59 0.6 ]\n",
            " [0.61 0.62 0.63 0.64 0.65 0.66 0.67 0.68 0.69 0.7 ]\n",
            " [0.71 0.72 0.73 0.74 0.75 0.76 0.77 0.78 0.79 0.8 ]\n",
            " [0.81 0.82 0.83 0.84 0.85 0.86 0.87 0.88 0.89 0.9 ]\n",
            " [0.91 0.92 0.93 0.94 0.95 0.96 0.97 0.98 0.99 1.  ]]\n"
          ]
        }
      ]
    },
    {
      "cell_type": "code",
      "source": [
        "#l. Дана стартовая матрица (обязательно запустите код ниже в вашем решении!). Эта матрица будет использоваться в последующих задачах\n",
        "# это наша стартовая матрица\n",
        "mat = np.arange(1,26).reshape(5,5) \n",
        "print(mat)\n"
      ],
      "metadata": {
        "colab": {
          "base_uri": "https://localhost:8080/"
        },
        "id": "NbKU6nz_p1kk",
        "outputId": "8246ab5e-49bd-4920-eed6-ff2252827c3d"
      },
      "execution_count": 66,
      "outputs": [
        {
          "output_type": "stream",
          "name": "stdout",
          "text": [
            "[[ 1  2  3  4  5]\n",
            " [ 6  7  8  9 10]\n",
            " [11 12 13 14 15]\n",
            " [16 17 18 19 20]\n",
            " [21 22 23 24 25]]\n"
          ]
        }
      ]
    },
    {
      "cell_type": "code",
      "source": [
        "#Необходимо написать код, который вернет следующую матрицу из стартовой:\n",
        "mat = np.arange(1,26).reshape(5,5)\n",
        "mat1 = mat[2:,1:]\n",
        "print(mat1)"
      ],
      "metadata": {
        "colab": {
          "base_uri": "https://localhost:8080/"
        },
        "id": "RvsweTHJqyWN",
        "outputId": "a89cca0a-f25d-48f3-d7f2-05074b86d02f"
      },
      "execution_count": 88,
      "outputs": [
        {
          "output_type": "stream",
          "name": "stdout",
          "text": [
            "[[12 13 14 15]\n",
            " [17 18 19 20]\n",
            " [22 23 24 25]]\n"
          ]
        }
      ]
    },
    {
      "cell_type": "code",
      "source": [
        "#m. Написать код обращения к элементу который вернет значение 20 из стартовой матрицы задачи l.\n",
        "mat = np.arange(1,26).reshape(5,5)\n",
        "num = np.array(mat)\n",
        "print(num[3][4])"
      ],
      "metadata": {
        "colab": {
          "base_uri": "https://localhost:8080/"
        },
        "id": "PAV1XjBswP7u",
        "outputId": "3bdb032f-de42-4fd2-8152-d4eeeb640467"
      },
      "execution_count": 95,
      "outputs": [
        {
          "output_type": "stream",
          "name": "stdout",
          "text": [
            "20\n"
          ]
        }
      ]
    },
    {
      "cell_type": "code",
      "source": [
        "#n.Написать код к стартовой матрице задачи l , который воспроизводит вывод, показанный ниже\n",
        "mat = np.arange(1,26).reshape(5,5)\n",
        "mat1 = mat[0:3,1].reshape(3,1)\n",
        "print(mat1)"
      ],
      "metadata": {
        "colab": {
          "base_uri": "https://localhost:8080/"
        },
        "id": "0967ntXPyuqF",
        "outputId": "d197c372-2be7-45fc-8839-3764a0c8cd49"
      },
      "execution_count": 94,
      "outputs": [
        {
          "output_type": "stream",
          "name": "stdout",
          "text": [
            "[[ 2]\n",
            " [ 7]\n",
            " [12]]\n"
          ]
        }
      ]
    },
    {
      "cell_type": "code",
      "source": [
        "#o. Написать код к стартовой матрице задачи l , который воспроизводит вывод, показанный ниже\n",
        "mat = np.arange(1,26).reshape(5,5)\n",
        "mat1 = mat[4,:]\n",
        "print(mat1)"
      ],
      "metadata": {
        "colab": {
          "base_uri": "https://localhost:8080/"
        },
        "id": "fFEPUbXlz_0S",
        "outputId": "5e898243-ef22-472e-d976-d13363aebd5c"
      },
      "execution_count": 97,
      "outputs": [
        {
          "output_type": "stream",
          "name": "stdout",
          "text": [
            "[21 22 23 24 25]\n"
          ]
        }
      ]
    },
    {
      "cell_type": "code",
      "source": [
        "#p. Написать код к стартовой матрице задачи l , который воспроизводит вывод, показанный ниже\n",
        "mat = np.arange(1,26).reshape(5,5)\n",
        "mat1 = mat[3:,:]\n",
        "print(mat1)"
      ],
      "metadata": {
        "colab": {
          "base_uri": "https://localhost:8080/"
        },
        "id": "g6TFzIq_0hzh",
        "outputId": "f0ace403-fb45-46b7-d217-8038e3a2a0ab"
      },
      "execution_count": 10,
      "outputs": [
        {
          "output_type": "stream",
          "name": "stdout",
          "text": [
            "[[16 17 18 19 20]\n",
            " [21 22 23 24 25]]\n"
          ]
        }
      ]
    },
    {
      "cell_type": "code",
      "source": [
        "#q. Получить сумму всех значений в стартовой матрице mat\n",
        "mat = np.arange(1,26).reshape(5,5)\n",
        "num = np.sum(mat)\n",
        "print(f'Сумма всех элементов матрицы  = {num}')    #f-строка  - форматирвоание. позволяет совместно с {} писать полное предложение без запятых и пробелов"
      ],
      "metadata": {
        "colab": {
          "base_uri": "https://localhost:8080/"
        },
        "id": "xbOJqjTY0wYv",
        "outputId": "55ef8086-0f01-40ea-caee-ba0645681bbc"
      },
      "execution_count": 26,
      "outputs": [
        {
          "output_type": "stream",
          "name": "stdout",
          "text": [
            "Сумма всех элементов матрицы  = 325\n"
          ]
        }
      ]
    },
    {
      "cell_type": "code",
      "source": [
        "  #r. Получить стандартное отклонение в стартовой матрице mat\n",
        "mat = np.arange(1,26).reshape(5,5)\n",
        "num = np.std(mat)\n",
        "print(f'Стандартное отклонение в мартице = {num}')"
      ],
      "metadata": {
        "colab": {
          "base_uri": "https://localhost:8080/"
        },
        "id": "-iWYXe-jEwLa",
        "outputId": "a8e4deac-2abc-431f-d6ae-622d39c62080"
      },
      "execution_count": 27,
      "outputs": [
        {
          "output_type": "stream",
          "name": "stdout",
          "text": [
            "Стандартное отклонение в мартице = 7.211102550927978\n"
          ]
        }
      ]
    },
    {
      "cell_type": "code",
      "source": [
        "#s. Получить сумму значений в колонках в стартовой матрице mat\n",
        "mat = np.arange(1,26).reshape(5,5)\n",
        "total_0_axis = np.sum(mat, axis=0) \n",
        "print(f'Сумма всех элементов по столбцам матрицы  = {total_0_axis}') \n",
        "total_1_axis = np.sum(mat, axis=1) \n",
        "print(f'Сумма всех элементов по строкам матрицы {total_1_axis}')\n"
      ],
      "metadata": {
        "colab": {
          "base_uri": "https://localhost:8080/"
        },
        "id": "u52XVvMBE956",
        "outputId": "514aa1fe-240a-412e-dc56-26bb91d76b2a"
      },
      "execution_count": 28,
      "outputs": [
        {
          "output_type": "stream",
          "name": "stdout",
          "text": [
            "Сумма всех элементов по столбцам матрицы  = [55 60 65 70 75]\n",
            "Сумма всех элементов по строкам матрицы [ 15  40  65  90 115]\n"
          ]
        }
      ]
    }
  ]
}
